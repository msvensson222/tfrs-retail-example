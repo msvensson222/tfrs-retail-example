{
 "cells": [
  {
   "cell_type": "code",
   "execution_count": 1,
   "metadata": {},
   "outputs": [],
   "source": [
    "import time\n",
    "import pandas as pd\n",
    "import numpy as np\n",
    "import tensorflow as tf\n",
    "import tensorflow_recommenders as tfrs"
   ]
  },
  {
   "cell_type": "code",
   "execution_count": 2,
   "metadata": {},
   "outputs": [
    {
     "data": {
      "text/plain": [
       "3"
      ]
     },
     "execution_count": 2,
     "metadata": {},
     "output_type": "execute_result"
    }
   ],
   "source": [
    "3"
   ]
  },
  {
   "cell_type": "code",
   "execution_count": 3,
   "metadata": {},
   "outputs": [],
   "source": [
    "item_info_df = pd.read_csv(\"item_info.csv\").drop(columns=[\"min_age\", \"max_age\"])\n",
    "item_info_df[\"item_no\"] = item_info_df[\"item_no\"].astype(str)\n",
    "user_info_df = pd.read_csv(\"user_info.csv\")\n",
    "user_info_df[\"user_no\"] = user_info_df[\"user_no\"].astype(str)\n",
    "user_item_interaction_df = pd.read_csv(\"user_item_interactions.csv\")\n",
    "user_item_interaction_df[\"user_no\"] = user_item_interaction_df[\"user_no\"].astype(str)\n",
    "user_item_interaction_df[\"item_no\"] = user_item_interaction_df[\"item_no\"].astype(str)"
   ]
  },
  {
   "cell_type": "code",
   "execution_count": 4,
   "metadata": {},
   "outputs": [
    {
     "data": {
      "text/html": [
       "<div>\n",
       "<style scoped>\n",
       "    .dataframe tbody tr th:only-of-type {\n",
       "        vertical-align: middle;\n",
       "    }\n",
       "\n",
       "    .dataframe tbody tr th {\n",
       "        vertical-align: top;\n",
       "    }\n",
       "\n",
       "    .dataframe thead th {\n",
       "        text-align: right;\n",
       "    }\n",
       "</style>\n",
       "<table border=\"1\" class=\"dataframe\">\n",
       "  <thead>\n",
       "    <tr style=\"text-align: right;\">\n",
       "      <th></th>\n",
       "      <th>item_no</th>\n",
       "      <th>colour</th>\n",
       "      <th>gender_description</th>\n",
       "      <th>brand</th>\n",
       "      <th>product_group</th>\n",
       "    </tr>\n",
       "  </thead>\n",
       "  <tbody>\n",
       "    <tr>\n",
       "      <th>0</th>\n",
       "      <td>206890150141030846</td>\n",
       "      <td>beige</td>\n",
       "      <td>unisex</td>\n",
       "      <td>bloomingville</td>\n",
       "      <td>furniture</td>\n",
       "    </tr>\n",
       "    <tr>\n",
       "      <th>1</th>\n",
       "      <td>7637494654837559066</td>\n",
       "      <td>pink</td>\n",
       "      <td>girls</td>\n",
       "      <td>petit bateau</td>\n",
       "      <td>clothing sets</td>\n",
       "    </tr>\n",
       "    <tr>\n",
       "      <th>2</th>\n",
       "      <td>7969520735315050609</td>\n",
       "      <td>beige</td>\n",
       "      <td>unisex</td>\n",
       "      <td>bobo choses</td>\n",
       "      <td>jumpers and knitwear</td>\n",
       "    </tr>\n",
       "    <tr>\n",
       "      <th>3</th>\n",
       "      <td>-565751122846696741</td>\n",
       "      <td>white</td>\n",
       "      <td>unisex</td>\n",
       "      <td>piupiuchick</td>\n",
       "      <td>tops</td>\n",
       "    </tr>\n",
       "    <tr>\n",
       "      <th>4</th>\n",
       "      <td>6688930722259797984</td>\n",
       "      <td>green</td>\n",
       "      <td>unisex</td>\n",
       "      <td>filibabba</td>\n",
       "      <td>baby feeding</td>\n",
       "    </tr>\n",
       "  </tbody>\n",
       "</table>\n",
       "</div>"
      ],
      "text/plain": [
       "               item_no colour gender_description          brand  \\\n",
       "0   206890150141030846  beige             unisex  bloomingville   \n",
       "1  7637494654837559066   pink              girls   petit bateau   \n",
       "2  7969520735315050609  beige             unisex    bobo choses   \n",
       "3  -565751122846696741  white             unisex    piupiuchick   \n",
       "4  6688930722259797984  green             unisex      filibabba   \n",
       "\n",
       "          product_group  \n",
       "0             furniture  \n",
       "1         clothing sets  \n",
       "2  jumpers and knitwear  \n",
       "3                  tops  \n",
       "4          baby feeding  "
      ]
     },
     "execution_count": 4,
     "metadata": {},
     "output_type": "execute_result"
    }
   ],
   "source": [
    "item_info_df.head()"
   ]
  },
  {
   "cell_type": "code",
   "execution_count": 5,
   "metadata": {},
   "outputs": [
    {
     "data": {
      "text/html": [
       "<div>\n",
       "<style scoped>\n",
       "    .dataframe tbody tr th:only-of-type {\n",
       "        vertical-align: middle;\n",
       "    }\n",
       "\n",
       "    .dataframe tbody tr th {\n",
       "        vertical-align: top;\n",
       "    }\n",
       "\n",
       "    .dataframe thead th {\n",
       "        text-align: right;\n",
       "    }\n",
       "</style>\n",
       "<table border=\"1\" class=\"dataframe\">\n",
       "  <thead>\n",
       "    <tr style=\"text-align: right;\">\n",
       "      <th></th>\n",
       "      <th>user_no</th>\n",
       "      <th>country</th>\n",
       "      <th>aov</th>\n",
       "      <th>avg_markdown</th>\n",
       "    </tr>\n",
       "  </thead>\n",
       "  <tbody>\n",
       "    <tr>\n",
       "      <th>0</th>\n",
       "      <td>8587933979694308845</td>\n",
       "      <td>sweden</td>\n",
       "      <td>479.2</td>\n",
       "      <td>-0.200000</td>\n",
       "    </tr>\n",
       "    <tr>\n",
       "      <th>1</th>\n",
       "      <td>2740387653650048572</td>\n",
       "      <td>sweden</td>\n",
       "      <td>837.6</td>\n",
       "      <td>-0.200000</td>\n",
       "    </tr>\n",
       "    <tr>\n",
       "      <th>2</th>\n",
       "      <td>2084988796719274722</td>\n",
       "      <td>sweden</td>\n",
       "      <td>942.4</td>\n",
       "      <td>-0.560000</td>\n",
       "    </tr>\n",
       "    <tr>\n",
       "      <th>3</th>\n",
       "      <td>-4662401680846085311</td>\n",
       "      <td>sweden</td>\n",
       "      <td>438.4</td>\n",
       "      <td>-0.620000</td>\n",
       "    </tr>\n",
       "    <tr>\n",
       "      <th>4</th>\n",
       "      <td>-1086148156436227367</td>\n",
       "      <td>sweden</td>\n",
       "      <td>664.8</td>\n",
       "      <td>-0.286667</td>\n",
       "    </tr>\n",
       "  </tbody>\n",
       "</table>\n",
       "</div>"
      ],
      "text/plain": [
       "                user_no country    aov  avg_markdown\n",
       "0   8587933979694308845  sweden  479.2     -0.200000\n",
       "1   2740387653650048572  sweden  837.6     -0.200000\n",
       "2   2084988796719274722  sweden  942.4     -0.560000\n",
       "3  -4662401680846085311  sweden  438.4     -0.620000\n",
       "4  -1086148156436227367  sweden  664.8     -0.286667"
      ]
     },
     "execution_count": 5,
     "metadata": {},
     "output_type": "execute_result"
    }
   ],
   "source": [
    "user_info_df.head()"
   ]
  },
  {
   "cell_type": "code",
   "execution_count": 6,
   "metadata": {},
   "outputs": [
    {
     "data": {
      "text/html": [
       "<div>\n",
       "<style scoped>\n",
       "    .dataframe tbody tr th:only-of-type {\n",
       "        vertical-align: middle;\n",
       "    }\n",
       "\n",
       "    .dataframe tbody tr th {\n",
       "        vertical-align: top;\n",
       "    }\n",
       "\n",
       "    .dataframe thead th {\n",
       "        text-align: right;\n",
       "    }\n",
       "</style>\n",
       "<table border=\"1\" class=\"dataframe\">\n",
       "  <thead>\n",
       "    <tr style=\"text-align: right;\">\n",
       "      <th></th>\n",
       "      <th>user_no</th>\n",
       "      <th>item_no</th>\n",
       "      <th>date</th>\n",
       "      <th>eventtype</th>\n",
       "    </tr>\n",
       "  </thead>\n",
       "  <tbody>\n",
       "    <tr>\n",
       "      <th>0</th>\n",
       "      <td>9060639138425951676</td>\n",
       "      <td>-478270421339298398</td>\n",
       "      <td>2021-06-24</td>\n",
       "      <td>purchased</td>\n",
       "    </tr>\n",
       "    <tr>\n",
       "      <th>1</th>\n",
       "      <td>9060639138425951676</td>\n",
       "      <td>2658388892627023500</td>\n",
       "      <td>2021-11-27</td>\n",
       "      <td>pageView</td>\n",
       "    </tr>\n",
       "    <tr>\n",
       "      <th>2</th>\n",
       "      <td>9060639138425951676</td>\n",
       "      <td>504233002877562247</td>\n",
       "      <td>2021-11-26</td>\n",
       "      <td>pageView</td>\n",
       "    </tr>\n",
       "    <tr>\n",
       "      <th>3</th>\n",
       "      <td>9060639138425951676</td>\n",
       "      <td>-3413566329152665076</td>\n",
       "      <td>2021-10-21</td>\n",
       "      <td>pageView</td>\n",
       "    </tr>\n",
       "    <tr>\n",
       "      <th>4</th>\n",
       "      <td>9060639138425951676</td>\n",
       "      <td>6700254580945881296</td>\n",
       "      <td>2021-10-10</td>\n",
       "      <td>pageView</td>\n",
       "    </tr>\n",
       "  </tbody>\n",
       "</table>\n",
       "</div>"
      ],
      "text/plain": [
       "               user_no               item_no        date  eventtype\n",
       "0  9060639138425951676   -478270421339298398  2021-06-24  purchased\n",
       "1  9060639138425951676   2658388892627023500  2021-11-27   pageView\n",
       "2  9060639138425951676    504233002877562247  2021-11-26   pageView\n",
       "3  9060639138425951676  -3413566329152665076  2021-10-21   pageView\n",
       "4  9060639138425951676   6700254580945881296  2021-10-10   pageView"
      ]
     },
     "execution_count": 6,
     "metadata": {},
     "output_type": "execute_result"
    }
   ],
   "source": [
    "user_item_interaction_df.head()"
   ]
  },
  {
   "cell_type": "code",
   "execution_count": 7,
   "metadata": {},
   "outputs": [
    {
     "data": {
      "text/plain": [
       "pageView         411685\n",
       "addToCart        354022\n",
       "purchased        227165\n",
       "addToWishlist     18353\n",
       "Name: eventtype, dtype: int64"
      ]
     },
     "execution_count": 7,
     "metadata": {},
     "output_type": "execute_result"
    }
   ],
   "source": [
    "user_item_interaction_df[\"eventtype\"].value_counts()"
   ]
  },
  {
   "cell_type": "code",
   "execution_count": 8,
   "metadata": {},
   "outputs": [],
   "source": [
    "USER_FEATURES = [\n",
    "    \"aov\"\n",
    "]\n",
    "ITEM_FEATURES = [\n",
    "    \"brand\"\n",
    "]"
   ]
  },
  {
   "cell_type": "markdown",
   "metadata": {},
   "source": [
    "# Notebook structure\n",
    "Overall thought: Make a simple example using one or two features, but providing a working example to inspire the audience to go test by themselves, since there are more features in the data. Same logic with the model complexity.\n",
    "\n",
    "Use a lot of the stuff from the TFRS tutorials when it comes to batch-sizes and loss functions to make it \"relatable\".\n",
    "\n",
    "## Load data\n",
    "* Whats done above this cell already\n",
    "## Prepare data\n",
    "* Choose features\n",
    "* Preprocess (missing values / standardize  etc)\n",
    "* Split data train/test\n",
    "* Create TF Dataset\n",
    "## Model creation\n",
    "* Create one Query Model and one Candidate model (use same terminology as in the presentation). Maybe skip the dense layers?\n",
    "* Create one TFRS model, with appropriate task and loss function using the two tower model architecture.\n",
    "## Model training\n",
    "* Would be nice if we had it set up so you could train both on GPU or CPU. So baiscally a flag if you want to use GPU or not (or check if GPU attached automatically). \n",
    "* Train for n epochs\n",
    "* Important to set training=False in the loss function, otherwise it evaluates during every epoch on the train data, which is painfully slow. So something like (def compute_loss(self, features, training=False) -> tf.Tensor:)\n",
    "\n",
    "## Model evaluation\n",
    "* Evaluate on test and train, show difference between Top-100 accuracy\n",
    "* Show that it overfits easily, just like any NN, so need to apply regularization and early stopping if you want it to generalize well (maybe not implement this)\n",
    "\n",
    "## Model serving\n",
    "* Create an index, and predict on one customer, show speed of inference. Batch-predict over all users and show ms/user of inference speed."
   ]
  },
  {
   "cell_type": "code",
   "execution_count": null,
   "metadata": {},
   "outputs": [],
   "source": []
  }
 ],
 "metadata": {
  "environment": {
   "name": "tf2-gpu.2-3.m61",
   "type": "gcloud",
   "uri": "gcr.io/deeplearning-platform-release/tf2-gpu.2-3:m61"
  },
  "kernelspec": {
   "display_name": "Python 3",
   "language": "python",
   "name": "python3"
  },
  "language_info": {
   "codemirror_mode": {
    "name": "ipython",
    "version": 3
   },
   "file_extension": ".py",
   "mimetype": "text/x-python",
   "name": "python",
   "nbconvert_exporter": "python",
   "pygments_lexer": "ipython3",
   "version": "3.8.3"
  }
 },
 "nbformat": 4,
 "nbformat_minor": 4
}
