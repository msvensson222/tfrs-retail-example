{
 "cells": [
  {
   "cell_type": "markdown",
   "id": "4682de77",
   "metadata": {},
   "source": [
    "# Training TFRS"
   ]
  },
  {
   "cell_type": "code",
   "execution_count": 1,
   "id": "448de54f",
   "metadata": {},
   "outputs": [],
   "source": [
    "from typing import Dict, Any, Text\n",
    "\n",
    "import numpy as np \n",
    "import pandas as pd\n",
    "\n",
    "import tensorflow as tf\n",
    "import tensorflow_recommenders as tfrs"
   ]
  },
  {
   "cell_type": "markdown",
   "id": "e2c1255e",
   "metadata": {},
   "source": [
    "## **Reading in the Data** "
   ]
  },
  {
   "cell_type": "code",
   "execution_count": 2,
   "id": "e76119e6",
   "metadata": {},
   "outputs": [],
   "source": [
    "train_df = pd.read_csv('train.csv', dtype={'user_no': str, 'item_no': str})\n",
    "test_df = pd.read_csv('test.csv', dtype={'user_no': str, 'item_no': str})"
   ]
  },
  {
   "cell_type": "code",
   "execution_count": 76,
   "id": "f8ac2fc7",
   "metadata": {},
   "outputs": [],
   "source": [
    "train_df_filtered = train_df.loc[train_df['user_no'].isin(train_df['user_no'].value_counts()[:1000].index)]\n",
    "items = {'item_no': train_df_filtered['item_no'].unique()}"
   ]
  },
  {
   "cell_type": "code",
   "execution_count": 83,
   "id": "ac49cd3f",
   "metadata": {},
   "outputs": [],
   "source": [
    "train_dataset = tf.data.Dataset.from_tensor_slices(dict(train_df_filtered))\n",
    "test_dataset = tf.data.Dataset.from_tensor_slices(dict(test_df))\n",
    "\n",
    "items_dataset = tf.data.Dataset.from_tensor_slices(items)"
   ]
  },
  {
   "cell_type": "code",
   "execution_count": 5,
   "id": "cf341245",
   "metadata": {},
   "outputs": [
    {
     "name": "stdout",
     "output_type": "stream",
     "text": [
      "{'user_no': <tf.Tensor: shape=(), dtype=string, numpy=b'9060639138425951676'>, 'item_no': <tf.Tensor: shape=(), dtype=string, numpy=b'-478270421339298398'>, 'gender_description': <tf.Tensor: shape=(), dtype=string, numpy=b'boys'>, 'brand': <tf.Tensor: shape=(), dtype=string, numpy=b'aden + anais'>, 'product_group': <tf.Tensor: shape=(), dtype=string, numpy=b'bedding'>}\n",
      "{'user_no': <tf.Tensor: shape=(), dtype=string, numpy=b'9060639138425951676'>, 'item_no': <tf.Tensor: shape=(), dtype=string, numpy=b'-4352133231638554813'>, 'gender_description': <tf.Tensor: shape=(), dtype=string, numpy=b'boys'>, 'brand': <tf.Tensor: shape=(), dtype=string, numpy=b'ralph lauren'>, 'product_group': <tf.Tensor: shape=(), dtype=string, numpy=b'jumpers and knitwear'>}\n",
      "{'user_no': <tf.Tensor: shape=(), dtype=string, numpy=b'9060639138425951676'>, 'item_no': <tf.Tensor: shape=(), dtype=string, numpy=b'3628487599004239534'>, 'gender_description': <tf.Tensor: shape=(), dtype=string, numpy=b'unisex'>, 'brand': <tf.Tensor: shape=(), dtype=string, numpy=b'silly silas'>, 'product_group': <tf.Tensor: shape=(), dtype=string, numpy=b'underwear'>}\n"
     ]
    }
   ],
   "source": [
    "for elem in train_dataset.take(3):\n",
    "    print(elem)"
   ]
  },
  {
   "cell_type": "code",
   "execution_count": 84,
   "id": "bd41c9fc",
   "metadata": {},
   "outputs": [
    {
     "name": "stdout",
     "output_type": "stream",
     "text": [
      "{'item_no': <tf.Tensor: shape=(), dtype=string, numpy=b'-5730313128884875484'>}\n",
      "{'item_no': <tf.Tensor: shape=(), dtype=string, numpy=b'8568137491440306643'>}\n",
      "{'item_no': <tf.Tensor: shape=(), dtype=string, numpy=b'2548468278650164360'>}\n"
     ]
    }
   ],
   "source": [
    "for item in items_dataset.take(3):\n",
    "    print(item)"
   ]
  },
  {
   "cell_type": "code",
   "execution_count": 34,
   "id": "82c04a73",
   "metadata": {},
   "outputs": [
    {
     "name": "stdout",
     "output_type": "stream",
     "text": [
      "1000\n",
      "10432\n"
     ]
    }
   ],
   "source": [
    "unique_users = train_df_filtered['user_no'].unique()\n",
    "unique_items = train_df_filtered['item_no'].unique()\n",
    "\n",
    "print(len(unique_users))\n",
    "print(len(unique_items))"
   ]
  },
  {
   "cell_type": "code",
   "execution_count": 35,
   "id": "0a8bf090",
   "metadata": {},
   "outputs": [],
   "source": [
    "EMBEDDING_DIM = 32\n",
    "NUM_OOV_INDICES = 1"
   ]
  },
  {
   "cell_type": "code",
   "execution_count": 36,
   "id": "1e92bbd6",
   "metadata": {},
   "outputs": [],
   "source": [
    "user_model = tf.keras.Sequential([\n",
    "  tf.keras.layers.StringLookup(\n",
    "      vocabulary=unique_users, \n",
    "      num_oov_indices=NUM_OOV_INDICES),\n",
    "  # We add an additional embedding to account for unknown tokens.\n",
    "  tf.keras.layers.Embedding(len(unique_users) + NUM_OOV_INDICES, EMBEDDING_DIM)\n",
    "])"
   ]
  },
  {
   "cell_type": "code",
   "execution_count": 86,
   "id": "b5c50df5",
   "metadata": {},
   "outputs": [],
   "source": [
    "item_model = tf.keras.Sequential([\n",
    "  tf.keras.layers.StringLookup(\n",
    "      vocabulary=unique_items, \n",
    "      num_oov_indices=NUM_OOV_INDICES),\n",
    "  tf.keras.layers.Embedding(len(unique_items) + NUM_OOV_INDICES, EMBEDDING_DIM)\n",
    "])"
   ]
  },
  {
   "cell_type": "code",
   "execution_count": 87,
   "id": "6b939d20",
   "metadata": {},
   "outputs": [],
   "source": [
    "metrics = tfrs.metrics.FactorizedTopK(\n",
    "  candidates=item_dataset.batch(128).map(item_model)\n",
    ")"
   ]
  },
  {
   "cell_type": "code",
   "execution_count": 88,
   "id": "6a8eec97",
   "metadata": {},
   "outputs": [],
   "source": [
    "task = tfrs.tasks.Retrieval(\n",
    "  metrics=metrics\n",
    ")"
   ]
  },
  {
   "cell_type": "code",
   "execution_count": 89,
   "id": "9957a8ab",
   "metadata": {},
   "outputs": [],
   "source": [
    "class SimpleTFRSModel(tfrs.Model):\n",
    "\n",
    "    def __init__(self, user_model, item_model, task):\n",
    "        super().__init__()\n",
    "        self.user_model: tf.keras.Model = user_model\n",
    "        self.item_model: tf.keras.Model = item_model\n",
    "        self.task: tf.keras.layers.Layer = task\n",
    "\n",
    "    def compute_loss(self, features: Dict[Text, tf.Tensor], training=False) -> tf.Tensor:\n",
    "        # We pick out the user features and pass them into the user model.\n",
    "        user_embeddings = self.user_model(features[\"user_no\"])\n",
    "        # And pick out the movie features and pass them into the movie model,\n",
    "        # getting embeddings back.\n",
    "        positive_item_embeddings = self.item_model(features[\"item_no\"])\n",
    "\n",
    "        # The task computes the loss and the metrics.\n",
    "        return self.task(user_embeddings, positive_item_embeddings)"
   ]
  },
  {
   "cell_type": "code",
   "execution_count": 90,
   "id": "c52e7be8",
   "metadata": {},
   "outputs": [],
   "source": [
    "model = SimpleTFRSModel(user_model, item_model, task)\n",
    "model.compile(optimizer=tf.keras.optimizers.Adam())"
   ]
  },
  {
   "cell_type": "code",
   "execution_count": 91,
   "id": "134ecead",
   "metadata": {},
   "outputs": [],
   "source": [
    "train_dataset_interactions = train_dataset.map(lambda x: {\n",
    "    'user_no': x['user_no'],\n",
    "    'item_no': x['item_no']\n",
    "})\n",
    "test_dataset_interactions = test_dataset.map(lambda x: {\n",
    "    'user_no': x['user_no'],\n",
    "    'item_no': x['item_no']\n",
    "})"
   ]
  },
  {
   "cell_type": "code",
   "execution_count": 92,
   "id": "826a3554",
   "metadata": {},
   "outputs": [],
   "source": [
    "cached_train = train_dataset_interactions.shuffle(100_000).batch(1024).cache()\n",
    "cached_test = test_dataset_interactions.batch(512).cache()"
   ]
  },
  {
   "cell_type": "code",
   "execution_count": 93,
   "id": "ba619717",
   "metadata": {},
   "outputs": [
    {
     "name": "stdout",
     "output_type": "stream",
     "text": [
      "Epoch 1/3\n",
      "20/20 [==============================] - 34s 2s/step - factorized_top_k/top_1_categorical_accuracy: 0.0000e+00 - factorized_top_k/top_5_categorical_accuracy: 3.0000e-04 - factorized_top_k/top_10_categorical_accuracy: 7.5000e-04 - factorized_top_k/top_50_categorical_accuracy: 0.0052 - factorized_top_k/top_100_categorical_accuracy: 0.0094 - loss: 6746.6120 - regularization_loss: 0.0000e+00 - total_loss: 6746.6120\n",
      "Epoch 2/3\n",
      "20/20 [==============================] - 41s 2s/step - factorized_top_k/top_1_categorical_accuracy: 0.0000e+00 - factorized_top_k/top_5_categorical_accuracy: 0.0063 - factorized_top_k/top_10_categorical_accuracy: 0.0152 - factorized_top_k/top_50_categorical_accuracy: 0.0520 - factorized_top_k/top_100_categorical_accuracy: 0.0788 - loss: 6735.1106 - regularization_loss: 0.0000e+00 - total_loss: 6735.1106\n",
      "Epoch 3/3\n",
      "20/20 [==============================] - 32s 2s/step - factorized_top_k/top_1_categorical_accuracy: 0.0000e+00 - factorized_top_k/top_5_categorical_accuracy: 0.0267 - factorized_top_k/top_10_categorical_accuracy: 0.0604 - factorized_top_k/top_50_categorical_accuracy: 0.1608 - factorized_top_k/top_100_categorical_accuracy: 0.2205 - loss: 6723.1899 - regularization_loss: 0.0000e+00 - total_loss: 6723.1899\n"
     ]
    }
   ],
   "source": [
    "history = model.fit(cached_train, epochs=3)"
   ]
  },
  {
   "cell_type": "code",
   "execution_count": 94,
   "id": "3fada9ac",
   "metadata": {},
   "outputs": [
    {
     "data": {
      "text/plain": [
       "<tensorflow_recommenders.layers.factorized_top_k.BruteForce at 0x14e71e790>"
      ]
     },
     "execution_count": 94,
     "metadata": {},
     "output_type": "execute_result"
    }
   ],
   "source": [
    "# Create a model that takes in raw query features, and\n",
    "index = tfrs.layers.factorized_top_k.BruteForce(model.user_model)\n",
    "# recommends movies out of the entire items dataset.\n",
    "index.index_from_dataset(\n",
    "  tf.data.Dataset.zip((item_dataset.batch(100), item_dataset.batch(100).map(model.item_model)))\n",
    ")"
   ]
  },
  {
   "cell_type": "code",
   "execution_count": 95,
   "id": "fe16705e",
   "metadata": {},
   "outputs": [
    {
     "name": "stdout",
     "output_type": "stream",
     "text": [
      "Recommendations for user 8611951538862997486: [b'8568137491440306643' b'8568137491440306643' b'2269104852390528660']\n"
     ]
    }
   ],
   "source": [
    "# Get recommendations.\n",
    "_, titles = index(tf.constant([\"8611951538862997486\"]))\n",
    "print(f\"Recommendations for user 8611951538862997486: {titles[0, :3]}\")"
   ]
  },
  {
   "cell_type": "code",
   "execution_count": 102,
   "id": "a16b2dc8",
   "metadata": {},
   "outputs": [],
   "source": [
    "_, titles = index.query_with_exclusions(tf.constant([\"8611951538862997486\"]), \n",
    "                                       tf.constant([items_to_exclude]))"
   ]
  },
  {
   "cell_type": "code",
   "execution_count": 52,
   "id": "28a64506",
   "metadata": {},
   "outputs": [],
   "source": [
    "item_info_df = pd.read_csv('item_info.csv', dtype={'item_no': str})"
   ]
  },
  {
   "cell_type": "code",
   "execution_count": 104,
   "id": "0484e04a",
   "metadata": {},
   "outputs": [],
   "source": [
    "recommendations = [item.numpy().decode() for item in titles[0]]"
   ]
  },
  {
   "cell_type": "code",
   "execution_count": 103,
   "id": "47a6056e",
   "metadata": {},
   "outputs": [
    {
     "data": {
      "text/plain": [
       "<tf.Tensor: shape=(10,), dtype=string, numpy=\n",
       "array([b'2269104852390528660', b'-7255110501726227326',\n",
       "       b'9056398533202444508', b'2200849807137753656',\n",
       "       b'4728871455199306062', b'4728871455199306062',\n",
       "       b'4728871455199306062', b'-5111789415165122883',\n",
       "       b'829182131992270441', b'-8658071339532683589'], dtype=object)>"
      ]
     },
     "execution_count": 103,
     "metadata": {},
     "output_type": "execute_result"
    }
   ],
   "source": [
    "titles[0]"
   ]
  },
  {
   "cell_type": "code",
   "execution_count": 105,
   "id": "563aec41",
   "metadata": {},
   "outputs": [
    {
     "data": {
      "text/html": [
       "<div>\n",
       "<style scoped>\n",
       "    .dataframe tbody tr th:only-of-type {\n",
       "        vertical-align: middle;\n",
       "    }\n",
       "\n",
       "    .dataframe tbody tr th {\n",
       "        vertical-align: top;\n",
       "    }\n",
       "\n",
       "    .dataframe thead th {\n",
       "        text-align: right;\n",
       "    }\n",
       "</style>\n",
       "<table border=\"1\" class=\"dataframe\">\n",
       "  <thead>\n",
       "    <tr style=\"text-align: right;\">\n",
       "      <th></th>\n",
       "      <th>item_no</th>\n",
       "      <th>colour</th>\n",
       "      <th>gender_description</th>\n",
       "      <th>brand</th>\n",
       "      <th>product_group</th>\n",
       "      <th>min_age</th>\n",
       "      <th>max_age</th>\n",
       "    </tr>\n",
       "  </thead>\n",
       "  <tbody>\n",
       "    <tr>\n",
       "      <th>12875</th>\n",
       "      <td>2269104852390528660</td>\n",
       "      <td>brown</td>\n",
       "      <td>unisex</td>\n",
       "      <td>buddy &amp; hope</td>\n",
       "      <td>stroller accessories</td>\n",
       "      <td>NaN</td>\n",
       "      <td>NaN</td>\n",
       "    </tr>\n",
       "    <tr>\n",
       "      <th>14136</th>\n",
       "      <td>829182131992270441</td>\n",
       "      <td>green</td>\n",
       "      <td>unisex</td>\n",
       "      <td>liewood</td>\n",
       "      <td>sandals</td>\n",
       "      <td>3.000</td>\n",
       "      <td>8.0</td>\n",
       "    </tr>\n",
       "    <tr>\n",
       "      <th>15787</th>\n",
       "      <td>2200849807137753656</td>\n",
       "      <td>yellow</td>\n",
       "      <td>boys</td>\n",
       "      <td>kuling</td>\n",
       "      <td>swimwear and coverups</td>\n",
       "      <td>2.000</td>\n",
       "      <td>10.0</td>\n",
       "    </tr>\n",
       "    <tr>\n",
       "      <th>22065</th>\n",
       "      <td>-5111789415165122883</td>\n",
       "      <td>blue</td>\n",
       "      <td>unisex</td>\n",
       "      <td>cam cam</td>\n",
       "      <td>bedding</td>\n",
       "      <td>NaN</td>\n",
       "      <td>NaN</td>\n",
       "    </tr>\n",
       "    <tr>\n",
       "      <th>23800</th>\n",
       "      <td>9056398533202444508</td>\n",
       "      <td>beige</td>\n",
       "      <td>girls</td>\n",
       "      <td>joha</td>\n",
       "      <td>tops</td>\n",
       "      <td>0.875</td>\n",
       "      <td>4.0</td>\n",
       "    </tr>\n",
       "    <tr>\n",
       "      <th>28287</th>\n",
       "      <td>4728871455199306062</td>\n",
       "      <td>green</td>\n",
       "      <td>girls</td>\n",
       "      <td>mini a ture</td>\n",
       "      <td>coats and jackets</td>\n",
       "      <td>2.000</td>\n",
       "      <td>8.0</td>\n",
       "    </tr>\n",
       "    <tr>\n",
       "      <th>52760</th>\n",
       "      <td>-7255110501726227326</td>\n",
       "      <td>silver</td>\n",
       "      <td>girls</td>\n",
       "      <td>molo</td>\n",
       "      <td>skirts</td>\n",
       "      <td>2.000</td>\n",
       "      <td>14.0</td>\n",
       "    </tr>\n",
       "    <tr>\n",
       "      <th>54981</th>\n",
       "      <td>-8658071339532683589</td>\n",
       "      <td>pink</td>\n",
       "      <td>unisex</td>\n",
       "      <td>bobo choses</td>\n",
       "      <td>tops</td>\n",
       "      <td>1.000</td>\n",
       "      <td>11.0</td>\n",
       "    </tr>\n",
       "  </tbody>\n",
       "</table>\n",
       "</div>"
      ],
      "text/plain": [
       "                    item_no  colour gender_description         brand  \\\n",
       "12875   2269104852390528660   brown             unisex  buddy & hope   \n",
       "14136    829182131992270441   green             unisex       liewood   \n",
       "15787   2200849807137753656  yellow               boys        kuling   \n",
       "22065  -5111789415165122883    blue             unisex       cam cam   \n",
       "23800   9056398533202444508   beige              girls          joha   \n",
       "28287   4728871455199306062   green              girls   mini a ture   \n",
       "52760  -7255110501726227326  silver              girls          molo   \n",
       "54981  -8658071339532683589    pink             unisex   bobo choses   \n",
       "\n",
       "               product_group  min_age  max_age  \n",
       "12875   stroller accessories      NaN      NaN  \n",
       "14136                sandals    3.000      8.0  \n",
       "15787  swimwear and coverups    2.000     10.0  \n",
       "22065                bedding      NaN      NaN  \n",
       "23800                   tops    0.875      4.0  \n",
       "28287      coats and jackets    2.000      8.0  \n",
       "52760                 skirts    2.000     14.0  \n",
       "54981                   tops    1.000     11.0  "
      ]
     },
     "execution_count": 105,
     "metadata": {},
     "output_type": "execute_result"
    }
   ],
   "source": [
    "item_info_df.loc[item_info_df['item_no'].isin(recommendations)]"
   ]
  },
  {
   "cell_type": "code",
   "execution_count": 72,
   "id": "6038a157",
   "metadata": {},
   "outputs": [
    {
     "data": {
      "text/html": [
       "<div>\n",
       "<style scoped>\n",
       "    .dataframe tbody tr th:only-of-type {\n",
       "        vertical-align: middle;\n",
       "    }\n",
       "\n",
       "    .dataframe tbody tr th {\n",
       "        vertical-align: top;\n",
       "    }\n",
       "\n",
       "    .dataframe thead th {\n",
       "        text-align: right;\n",
       "    }\n",
       "</style>\n",
       "<table border=\"1\" class=\"dataframe\">\n",
       "  <thead>\n",
       "    <tr style=\"text-align: right;\">\n",
       "      <th></th>\n",
       "      <th>item_no</th>\n",
       "      <th>colour</th>\n",
       "      <th>gender_description</th>\n",
       "      <th>brand</th>\n",
       "      <th>product_group</th>\n",
       "      <th>min_age</th>\n",
       "      <th>max_age</th>\n",
       "    </tr>\n",
       "  </thead>\n",
       "  <tbody>\n",
       "    <tr>\n",
       "      <th>27828</th>\n",
       "      <td>-4719306461609634737</td>\n",
       "      <td>pink</td>\n",
       "      <td>unisex</td>\n",
       "      <td>kuling</td>\n",
       "      <td>gloves and mittens</td>\n",
       "      <td>0.125</td>\n",
       "      <td>7.0</td>\n",
       "    </tr>\n",
       "  </tbody>\n",
       "</table>\n",
       "</div>"
      ],
      "text/plain": [
       "                    item_no colour gender_description   brand  \\\n",
       "27828  -4719306461609634737   pink             unisex  kuling   \n",
       "\n",
       "            product_group  min_age  max_age  \n",
       "27828  gloves and mittens    0.125      7.0  "
      ]
     },
     "execution_count": 72,
     "metadata": {},
     "output_type": "execute_result"
    }
   ],
   "source": [
    "item_info_df.loc[item_info_df['item_no'] == '-4719306461609634737']"
   ]
  },
  {
   "cell_type": "code",
   "execution_count": null,
   "id": "d5240648",
   "metadata": {},
   "outputs": [],
   "source": []
  },
  {
   "cell_type": "code",
   "execution_count": null,
   "id": "879fdd91",
   "metadata": {},
   "outputs": [],
   "source": []
  },
  {
   "cell_type": "code",
   "execution_count": 100,
   "id": "531f6fa7",
   "metadata": {},
   "outputs": [],
   "source": [
    "items_to_exclude = train_df_filtered.loc[train_df_filtered['user_no'] == '8611951538862997486']['item_no'].unique()"
   ]
  },
  {
   "cell_type": "code",
   "execution_count": 101,
   "id": "726fe0e1",
   "metadata": {},
   "outputs": [
    {
     "data": {
      "text/plain": [
       "<tf.Tensor: shape=(1, 14), dtype=string, numpy=\n",
       "array([[b'-5730313128884875484', b'8568137491440306643',\n",
       "        b'2548468278650164360', b'6475930040942565267',\n",
       "        b'-247398092582614634', b'3189056047292869834',\n",
       "        b'9082322682150583002', b'-2704888249198936738',\n",
       "        b'-3644029383138024689', b'-7476420848659739392',\n",
       "        b'-4866887541185258299', b'-500451012866804228',\n",
       "        b'137006744928801487', b'-439802747482401384']], dtype=object)>"
      ]
     },
     "execution_count": 101,
     "metadata": {},
     "output_type": "execute_result"
    }
   ],
   "source": [
    "tf.constant([items_to_exclude])"
   ]
  },
  {
   "cell_type": "code",
   "execution_count": 61,
   "id": "72a4ac51",
   "metadata": {},
   "outputs": [
    {
     "data": {
      "text/html": [
       "<div>\n",
       "<style scoped>\n",
       "    .dataframe tbody tr th:only-of-type {\n",
       "        vertical-align: middle;\n",
       "    }\n",
       "\n",
       "    .dataframe tbody tr th {\n",
       "        vertical-align: top;\n",
       "    }\n",
       "\n",
       "    .dataframe thead th {\n",
       "        text-align: right;\n",
       "    }\n",
       "</style>\n",
       "<table border=\"1\" class=\"dataframe\">\n",
       "  <thead>\n",
       "    <tr style=\"text-align: right;\">\n",
       "      <th></th>\n",
       "      <th>user_no</th>\n",
       "      <th>item_no</th>\n",
       "      <th>gender_description</th>\n",
       "      <th>brand</th>\n",
       "      <th>product_group</th>\n",
       "    </tr>\n",
       "  </thead>\n",
       "  <tbody>\n",
       "    <tr>\n",
       "      <th>366</th>\n",
       "      <td>8611951538862997486</td>\n",
       "      <td>-5730313128884875484</td>\n",
       "      <td>boys</td>\n",
       "      <td>air jordan</td>\n",
       "      <td>clothing sets</td>\n",
       "    </tr>\n",
       "    <tr>\n",
       "      <th>367</th>\n",
       "      <td>8611951538862997486</td>\n",
       "      <td>8568137491440306643</td>\n",
       "      <td>boys</td>\n",
       "      <td>boss</td>\n",
       "      <td>bottoms</td>\n",
       "    </tr>\n",
       "    <tr>\n",
       "      <th>368</th>\n",
       "      <td>8611951538862997486</td>\n",
       "      <td>2548468278650164360</td>\n",
       "      <td>unisex</td>\n",
       "      <td>boss</td>\n",
       "      <td>tops</td>\n",
       "    </tr>\n",
       "    <tr>\n",
       "      <th>369</th>\n",
       "      <td>8611951538862997486</td>\n",
       "      <td>6475930040942565267</td>\n",
       "      <td>boys</td>\n",
       "      <td>ralph lauren</td>\n",
       "      <td>tops</td>\n",
       "    </tr>\n",
       "    <tr>\n",
       "      <th>370</th>\n",
       "      <td>8611951538862997486</td>\n",
       "      <td>-247398092582614634</td>\n",
       "      <td>boys</td>\n",
       "      <td>air jordan</td>\n",
       "      <td>clothing sets</td>\n",
       "    </tr>\n",
       "    <tr>\n",
       "      <th>371</th>\n",
       "      <td>8611951538862997486</td>\n",
       "      <td>3189056047292869834</td>\n",
       "      <td>boys</td>\n",
       "      <td>air jordan</td>\n",
       "      <td>all in ones</td>\n",
       "    </tr>\n",
       "    <tr>\n",
       "      <th>372</th>\n",
       "      <td>8611951538862997486</td>\n",
       "      <td>9082322682150583002</td>\n",
       "      <td>boys</td>\n",
       "      <td>adidas</td>\n",
       "      <td>clothing sets</td>\n",
       "    </tr>\n",
       "    <tr>\n",
       "      <th>373</th>\n",
       "      <td>8611951538862997486</td>\n",
       "      <td>-2704888249198936738</td>\n",
       "      <td>boys</td>\n",
       "      <td>adidas</td>\n",
       "      <td>clothing sets</td>\n",
       "    </tr>\n",
       "    <tr>\n",
       "      <th>374</th>\n",
       "      <td>8611951538862997486</td>\n",
       "      <td>-5730313128884875484</td>\n",
       "      <td>boys</td>\n",
       "      <td>air jordan</td>\n",
       "      <td>clothing sets</td>\n",
       "    </tr>\n",
       "    <tr>\n",
       "      <th>375</th>\n",
       "      <td>8611951538862997486</td>\n",
       "      <td>8568137491440306643</td>\n",
       "      <td>boys</td>\n",
       "      <td>boss</td>\n",
       "      <td>bottoms</td>\n",
       "    </tr>\n",
       "    <tr>\n",
       "      <th>376</th>\n",
       "      <td>8611951538862997486</td>\n",
       "      <td>2548468278650164360</td>\n",
       "      <td>unisex</td>\n",
       "      <td>boss</td>\n",
       "      <td>tops</td>\n",
       "    </tr>\n",
       "    <tr>\n",
       "      <th>377</th>\n",
       "      <td>8611951538862997486</td>\n",
       "      <td>6475930040942565267</td>\n",
       "      <td>boys</td>\n",
       "      <td>ralph lauren</td>\n",
       "      <td>tops</td>\n",
       "    </tr>\n",
       "    <tr>\n",
       "      <th>378</th>\n",
       "      <td>8611951538862997486</td>\n",
       "      <td>3189056047292869834</td>\n",
       "      <td>boys</td>\n",
       "      <td>air jordan</td>\n",
       "      <td>all in ones</td>\n",
       "    </tr>\n",
       "    <tr>\n",
       "      <th>379</th>\n",
       "      <td>8611951538862997486</td>\n",
       "      <td>-3644029383138024689</td>\n",
       "      <td>boys</td>\n",
       "      <td>mayoral</td>\n",
       "      <td>bottoms</td>\n",
       "    </tr>\n",
       "    <tr>\n",
       "      <th>380</th>\n",
       "      <td>8611951538862997486</td>\n",
       "      <td>-7476420848659739392</td>\n",
       "      <td>boys</td>\n",
       "      <td>mayoral</td>\n",
       "      <td>coats and jackets</td>\n",
       "    </tr>\n",
       "    <tr>\n",
       "      <th>381</th>\n",
       "      <td>8611951538862997486</td>\n",
       "      <td>-4866887541185258299</td>\n",
       "      <td>boys</td>\n",
       "      <td>mayoral</td>\n",
       "      <td>all in ones</td>\n",
       "    </tr>\n",
       "    <tr>\n",
       "      <th>382</th>\n",
       "      <td>8611951538862997486</td>\n",
       "      <td>-500451012866804228</td>\n",
       "      <td>boys</td>\n",
       "      <td>adidas</td>\n",
       "      <td>clothing sets</td>\n",
       "    </tr>\n",
       "    <tr>\n",
       "      <th>383</th>\n",
       "      <td>8611951538862997486</td>\n",
       "      <td>137006744928801487</td>\n",
       "      <td>boys</td>\n",
       "      <td>petit bateau</td>\n",
       "      <td>bottoms</td>\n",
       "    </tr>\n",
       "    <tr>\n",
       "      <th>384</th>\n",
       "      <td>8611951538862997486</td>\n",
       "      <td>-439802747482401384</td>\n",
       "      <td>boys</td>\n",
       "      <td>adidas</td>\n",
       "      <td>clothing sets</td>\n",
       "    </tr>\n",
       "    <tr>\n",
       "      <th>385</th>\n",
       "      <td>8611951538862997486</td>\n",
       "      <td>9082322682150583002</td>\n",
       "      <td>boys</td>\n",
       "      <td>adidas</td>\n",
       "      <td>clothing sets</td>\n",
       "    </tr>\n",
       "  </tbody>\n",
       "</table>\n",
       "</div>"
      ],
      "text/plain": [
       "                 user_no               item_no gender_description  \\\n",
       "366  8611951538862997486  -5730313128884875484               boys   \n",
       "367  8611951538862997486   8568137491440306643               boys   \n",
       "368  8611951538862997486   2548468278650164360             unisex   \n",
       "369  8611951538862997486   6475930040942565267               boys   \n",
       "370  8611951538862997486   -247398092582614634               boys   \n",
       "371  8611951538862997486   3189056047292869834               boys   \n",
       "372  8611951538862997486   9082322682150583002               boys   \n",
       "373  8611951538862997486  -2704888249198936738               boys   \n",
       "374  8611951538862997486  -5730313128884875484               boys   \n",
       "375  8611951538862997486   8568137491440306643               boys   \n",
       "376  8611951538862997486   2548468278650164360             unisex   \n",
       "377  8611951538862997486   6475930040942565267               boys   \n",
       "378  8611951538862997486   3189056047292869834               boys   \n",
       "379  8611951538862997486  -3644029383138024689               boys   \n",
       "380  8611951538862997486  -7476420848659739392               boys   \n",
       "381  8611951538862997486  -4866887541185258299               boys   \n",
       "382  8611951538862997486   -500451012866804228               boys   \n",
       "383  8611951538862997486    137006744928801487               boys   \n",
       "384  8611951538862997486   -439802747482401384               boys   \n",
       "385  8611951538862997486   9082322682150583002               boys   \n",
       "\n",
       "            brand      product_group  \n",
       "366    air jordan      clothing sets  \n",
       "367          boss            bottoms  \n",
       "368          boss               tops  \n",
       "369  ralph lauren               tops  \n",
       "370    air jordan      clothing sets  \n",
       "371    air jordan        all in ones  \n",
       "372        adidas      clothing sets  \n",
       "373        adidas      clothing sets  \n",
       "374    air jordan      clothing sets  \n",
       "375          boss            bottoms  \n",
       "376          boss               tops  \n",
       "377  ralph lauren               tops  \n",
       "378    air jordan        all in ones  \n",
       "379       mayoral            bottoms  \n",
       "380       mayoral  coats and jackets  \n",
       "381       mayoral        all in ones  \n",
       "382        adidas      clothing sets  \n",
       "383  petit bateau            bottoms  \n",
       "384        adidas      clothing sets  \n",
       "385        adidas      clothing sets  "
      ]
     },
     "execution_count": 61,
     "metadata": {},
     "output_type": "execute_result"
    }
   ],
   "source": [
    "train_df_filtered.loc[train_df_filtered['user_no'] == '8611951538862997486']"
   ]
  },
  {
   "cell_type": "code",
   "execution_count": 46,
   "id": "1e469f2a",
   "metadata": {
    "scrolled": true
   },
   "outputs": [
    {
     "data": {
      "text/plain": [
       "6"
      ]
     },
     "execution_count": 46,
     "metadata": {},
     "output_type": "execute_result"
    }
   ],
   "source": [
    "3 + 3"
   ]
  },
  {
   "cell_type": "code",
   "execution_count": null,
   "id": "3b5d04aa",
   "metadata": {},
   "outputs": [],
   "source": []
  },
  {
   "cell_type": "code",
   "execution_count": null,
   "id": "1b7b14eb",
   "metadata": {},
   "outputs": [],
   "source": []
  }
 ],
 "metadata": {
  "kernelspec": {
   "display_name": "tfrs-retail-example",
   "language": "python",
   "name": "tfrs-retail-example"
  },
  "language_info": {
   "codemirror_mode": {
    "name": "ipython",
    "version": 3
   },
   "file_extension": ".py",
   "mimetype": "text/x-python",
   "name": "python",
   "nbconvert_exporter": "python",
   "pygments_lexer": "ipython3",
   "version": "3.7.5"
  }
 },
 "nbformat": 4,
 "nbformat_minor": 5
}
