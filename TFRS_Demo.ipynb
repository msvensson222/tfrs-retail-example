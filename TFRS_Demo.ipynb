{
 "cells": [
  {
   "cell_type": "markdown",
   "id": "2a7bc191",
   "metadata": {},
   "source": [
    "# Training TFRS"
   ]
  },
  {
   "cell_type": "code",
   "execution_count": 1,
   "id": "3d39ab95",
   "metadata": {},
   "outputs": [],
   "source": [
    "from typing import Dict, Any, Text\n",
    "\n",
    "import numpy as np \n",
    "import pandas as pd\n",
    "\n",
    "import tensorflow as tf\n",
    "import tensorflow_recommenders as tfrs"
   ]
  },
  {
   "cell_type": "markdown",
   "id": "a1baf5f6",
   "metadata": {},
   "source": [
    "## **Reading in the Data** "
   ]
  },
  {
   "cell_type": "code",
   "execution_count": 2,
   "id": "373d54a2",
   "metadata": {},
   "outputs": [],
   "source": [
    "train_df = pd.read_csv('train.csv', dtype={'user_no': str, 'item_no': str})\n",
    "test_df = pd.read_csv('test.csv', dtype={'user_no': str, 'item_no': str})"
   ]
  },
  {
   "cell_type": "code",
   "execution_count": 23,
   "id": "f364479d",
   "metadata": {},
   "outputs": [],
   "source": [
    "train_df_filtered = train_df.loc[train_df['user_no'].isin(train_df['user_no'].value_counts()[:1000].index)]"
   ]
  },
  {
   "cell_type": "code",
   "execution_count": 24,
   "id": "b69edf29",
   "metadata": {},
   "outputs": [],
   "source": [
    "train_dataset = tf.data.Dataset.from_tensor_slices(dict(train_df_filtered))\n",
    "test_dataset = tf.data.Dataset.from_tensor_slices(dict(test_df))"
   ]
  },
  {
   "cell_type": "code",
   "execution_count": 5,
   "id": "07f4ac98",
   "metadata": {},
   "outputs": [
    {
     "name": "stdout",
     "output_type": "stream",
     "text": [
      "{'user_no': <tf.Tensor: shape=(), dtype=string, numpy=b'9060639138425951676'>, 'item_no': <tf.Tensor: shape=(), dtype=string, numpy=b'-478270421339298398'>, 'gender_description': <tf.Tensor: shape=(), dtype=string, numpy=b'boys'>, 'brand': <tf.Tensor: shape=(), dtype=string, numpy=b'aden + anais'>, 'product_group': <tf.Tensor: shape=(), dtype=string, numpy=b'bedding'>}\n",
      "{'user_no': <tf.Tensor: shape=(), dtype=string, numpy=b'9060639138425951676'>, 'item_no': <tf.Tensor: shape=(), dtype=string, numpy=b'-4352133231638554813'>, 'gender_description': <tf.Tensor: shape=(), dtype=string, numpy=b'boys'>, 'brand': <tf.Tensor: shape=(), dtype=string, numpy=b'ralph lauren'>, 'product_group': <tf.Tensor: shape=(), dtype=string, numpy=b'jumpers and knitwear'>}\n",
      "{'user_no': <tf.Tensor: shape=(), dtype=string, numpy=b'9060639138425951676'>, 'item_no': <tf.Tensor: shape=(), dtype=string, numpy=b'3628487599004239534'>, 'gender_description': <tf.Tensor: shape=(), dtype=string, numpy=b'unisex'>, 'brand': <tf.Tensor: shape=(), dtype=string, numpy=b'silly silas'>, 'product_group': <tf.Tensor: shape=(), dtype=string, numpy=b'underwear'>}\n"
     ]
    }
   ],
   "source": [
    "for elem in train_dataset.take(3):\n",
    "    print(elem)"
   ]
  },
  {
   "cell_type": "code",
   "execution_count": 34,
   "id": "a0f632f5",
   "metadata": {},
   "outputs": [
    {
     "name": "stdout",
     "output_type": "stream",
     "text": [
      "1000\n",
      "10432\n"
     ]
    }
   ],
   "source": [
    "unique_users = train_df_filtered['user_no'].unique()\n",
    "unique_items = train_df_filtered['item_no'].unique()\n",
    "\n",
    "print(len(unique_users))\n",
    "print(len(unique_items))"
   ]
  },
  {
   "cell_type": "code",
   "execution_count": 35,
   "id": "3303289e",
   "metadata": {},
   "outputs": [],
   "source": [
    "EMBEDDING_DIM = 32\n",
    "NUM_OOV_INDICES = 1"
   ]
  },
  {
   "cell_type": "code",
   "execution_count": 36,
   "id": "8e51f8f4",
   "metadata": {},
   "outputs": [],
   "source": [
    "user_model = tf.keras.Sequential([\n",
    "  tf.keras.layers.StringLookup(\n",
    "      vocabulary=unique_users, \n",
    "      num_oov_indices=NUM_OOV_INDICES),\n",
    "  # We add an additional embedding to account for unknown tokens.\n",
    "  tf.keras.layers.Embedding(len(unique_users) + NUM_OOV_INDICES, EMBEDDING_DIM)\n",
    "])"
   ]
  },
  {
   "cell_type": "code",
   "execution_count": 37,
   "id": "b474cb13",
   "metadata": {},
   "outputs": [],
   "source": [
    "item_model = tf.keras.Sequential([\n",
    "  tf.keras.layers.StringLookup(\n",
    "      vocabulary=unique_items, \n",
    "      num_oov_indices=NUM_OOV_INDICES),\n",
    "  tf.keras.layers.Embedding(len(unique_items) + NUM_OOV_INDICES, EMBEDDING_DIM)\n",
    "])"
   ]
  },
  {
   "cell_type": "code",
   "execution_count": 38,
   "id": "c81dd78a",
   "metadata": {},
   "outputs": [],
   "source": [
    "item_dataset = train_dataset.map(lambda x: x['item_no'])\n",
    "\n",
    "metrics = tfrs.metrics.FactorizedTopK(\n",
    "  candidates=item_dataset.batch(128).map(item_model)\n",
    ")"
   ]
  },
  {
   "cell_type": "code",
   "execution_count": 39,
   "id": "fc1a45d0",
   "metadata": {},
   "outputs": [],
   "source": [
    "task = tfrs.tasks.Retrieval(\n",
    "  metrics=metrics\n",
    ")"
   ]
  },
  {
   "cell_type": "code",
   "execution_count": 40,
   "id": "51d02c76",
   "metadata": {},
   "outputs": [],
   "source": [
    "class SimpleTFRSModel(tfrs.Model):\n",
    "\n",
    "    def __init__(self, user_model, item_model, task):\n",
    "        super().__init__()\n",
    "        self.user_model: tf.keras.Model = user_model\n",
    "        self.item_model: tf.keras.Model = item_model\n",
    "        self.task: tf.keras.layers.Layer = task\n",
    "\n",
    "    def compute_loss(self, features: Dict[Text, tf.Tensor], training=False) -> tf.Tensor:\n",
    "        # We pick out the user features and pass them into the user model.\n",
    "        user_embeddings = self.user_model(features[\"user_no\"])\n",
    "        # And pick out the movie features and pass them into the movie model,\n",
    "        # getting embeddings back.\n",
    "        positive_item_embeddings = self.item_model(features[\"item_no\"])\n",
    "\n",
    "        # The task computes the loss and the metrics.\n",
    "        return self.task(user_embeddings, positive_item_embeddings)"
   ]
  },
  {
   "cell_type": "code",
   "execution_count": 41,
   "id": "6f6ed673",
   "metadata": {},
   "outputs": [],
   "source": [
    "model = SimpleTFRSModel(user_model, item_model, task)\n",
    "model.compile(optimizer=tf.keras.optimizers.Adam())"
   ]
  },
  {
   "cell_type": "code",
   "execution_count": 42,
   "id": "39caa340",
   "metadata": {},
   "outputs": [],
   "source": [
    "train_dataset_interactions = train_dataset.map(lambda x: {\n",
    "    'user_no': x['user_no'],\n",
    "    'item_no': x['item_no']\n",
    "})\n",
    "test_dataset_interactions = test_dataset.map(lambda x: {\n",
    "    'user_no': x['user_no'],\n",
    "    'item_no': x['item_no']\n",
    "})"
   ]
  },
  {
   "cell_type": "code",
   "execution_count": 43,
   "id": "18d2e30f",
   "metadata": {},
   "outputs": [],
   "source": [
    "cached_train = train_dataset_interactions.shuffle(100_000).batch(1024).cache()\n",
    "cached_test = test_dataset_interactions.batch(512).cache()"
   ]
  },
  {
   "cell_type": "code",
   "execution_count": 45,
   "id": "786ba795",
   "metadata": {},
   "outputs": [
    {
     "name": "stdout",
     "output_type": "stream",
     "text": [
      "Epoch 1/3\n",
      "79/79 [==============================] - 43s 543ms/step - factorized_top_k/top_1_categorical_accuracy: 0.0000e+00 - factorized_top_k/top_5_categorical_accuracy: 0.0069 - factorized_top_k/top_10_categorical_accuracy: 0.0167 - factorized_top_k/top_50_categorical_accuracy: 0.0472 - factorized_top_k/top_100_categorical_accuracy: 0.0660 - loss: 1386.0257 - regularization_loss: 0.0000e+00 - total_loss: 1386.0257\n",
      "Epoch 2/3\n",
      "79/79 [==============================] - 53s 673ms/step - factorized_top_k/top_1_categorical_accuracy: 0.0000e+00 - factorized_top_k/top_5_categorical_accuracy: 0.0344 - factorized_top_k/top_10_categorical_accuracy: 0.0816 - factorized_top_k/top_50_categorical_accuracy: 0.2068 - factorized_top_k/top_100_categorical_accuracy: 0.2666 - loss: 1382.7635 - regularization_loss: 0.0000e+00 - total_loss: 1382.7635\n",
      "Epoch 3/3\n",
      "79/79 [==============================] - 50s 634ms/step - factorized_top_k/top_1_categorical_accuracy: 0.0000e+00 - factorized_top_k/top_5_categorical_accuracy: 0.0475 - factorized_top_k/top_10_categorical_accuracy: 0.1195 - factorized_top_k/top_50_categorical_accuracy: 0.3126 - factorized_top_k/top_100_categorical_accuracy: 0.4050 - loss: 1375.9265 - regularization_loss: 0.0000e+00 - total_loss: 1375.9265\n"
     ]
    }
   ],
   "source": [
    "history = model.fit(cached_train, epochs=3)"
   ]
  },
  {
   "cell_type": "code",
   "execution_count": 47,
   "id": "8044ea54",
   "metadata": {},
   "outputs": [
    {
     "data": {
      "text/plain": [
       "<tensorflow_recommenders.layers.factorized_top_k.BruteForce at 0x13e8ef310>"
      ]
     },
     "execution_count": 47,
     "metadata": {},
     "output_type": "execute_result"
    }
   ],
   "source": [
    "# Create a model that takes in raw query features, and\n",
    "index = tfrs.layers.factorized_top_k.BruteForce(model.user_model)\n",
    "# recommends movies out of the entire items dataset.\n",
    "index.index_from_dataset(\n",
    "  tf.data.Dataset.zip((item_dataset.batch(100), item_dataset.batch(100).map(model.item_model)))\n",
    ")"
   ]
  },
  {
   "cell_type": "code",
   "execution_count": 49,
   "id": "239a89c2",
   "metadata": {},
   "outputs": [
    {
     "data": {
      "text/html": [
       "<div>\n",
       "<style scoped>\n",
       "    .dataframe tbody tr th:only-of-type {\n",
       "        vertical-align: middle;\n",
       "    }\n",
       "\n",
       "    .dataframe tbody tr th {\n",
       "        vertical-align: top;\n",
       "    }\n",
       "\n",
       "    .dataframe thead th {\n",
       "        text-align: right;\n",
       "    }\n",
       "</style>\n",
       "<table border=\"1\" class=\"dataframe\">\n",
       "  <thead>\n",
       "    <tr style=\"text-align: right;\">\n",
       "      <th></th>\n",
       "      <th>user_no</th>\n",
       "      <th>item_no</th>\n",
       "      <th>gender_description</th>\n",
       "      <th>brand</th>\n",
       "      <th>product_group</th>\n",
       "    </tr>\n",
       "  </thead>\n",
       "  <tbody>\n",
       "    <tr>\n",
       "      <th>366</th>\n",
       "      <td>8611951538862997486</td>\n",
       "      <td>-5730313128884875484</td>\n",
       "      <td>boys</td>\n",
       "      <td>air jordan</td>\n",
       "      <td>clothing sets</td>\n",
       "    </tr>\n",
       "    <tr>\n",
       "      <th>367</th>\n",
       "      <td>8611951538862997486</td>\n",
       "      <td>8568137491440306643</td>\n",
       "      <td>boys</td>\n",
       "      <td>boss</td>\n",
       "      <td>bottoms</td>\n",
       "    </tr>\n",
       "    <tr>\n",
       "      <th>368</th>\n",
       "      <td>8611951538862997486</td>\n",
       "      <td>2548468278650164360</td>\n",
       "      <td>unisex</td>\n",
       "      <td>boss</td>\n",
       "      <td>tops</td>\n",
       "    </tr>\n",
       "    <tr>\n",
       "      <th>369</th>\n",
       "      <td>8611951538862997486</td>\n",
       "      <td>6475930040942565267</td>\n",
       "      <td>boys</td>\n",
       "      <td>ralph lauren</td>\n",
       "      <td>tops</td>\n",
       "    </tr>\n",
       "    <tr>\n",
       "      <th>370</th>\n",
       "      <td>8611951538862997486</td>\n",
       "      <td>-247398092582614634</td>\n",
       "      <td>boys</td>\n",
       "      <td>air jordan</td>\n",
       "      <td>clothing sets</td>\n",
       "    </tr>\n",
       "    <tr>\n",
       "      <th>...</th>\n",
       "      <td>...</td>\n",
       "      <td>...</td>\n",
       "      <td>...</td>\n",
       "      <td>...</td>\n",
       "      <td>...</td>\n",
       "    </tr>\n",
       "    <tr>\n",
       "      <th>578340</th>\n",
       "      <td>-1471686302949907949</td>\n",
       "      <td>-3282703495377499121</td>\n",
       "      <td>unisex</td>\n",
       "      <td>britax</td>\n",
       "      <td>strollers</td>\n",
       "    </tr>\n",
       "    <tr>\n",
       "      <th>578341</th>\n",
       "      <td>-1471686302949907949</td>\n",
       "      <td>4109825327457723985</td>\n",
       "      <td>unisex</td>\n",
       "      <td>didriksons</td>\n",
       "      <td>gloves and mittens</td>\n",
       "    </tr>\n",
       "    <tr>\n",
       "      <th>578342</th>\n",
       "      <td>-1471686302949907949</td>\n",
       "      <td>5766067121942017613</td>\n",
       "      <td>unisex</td>\n",
       "      <td>didriksons</td>\n",
       "      <td>gloves and mittens</td>\n",
       "    </tr>\n",
       "    <tr>\n",
       "      <th>578343</th>\n",
       "      <td>-1471686302949907949</td>\n",
       "      <td>-4377679585094127757</td>\n",
       "      <td>unisex</td>\n",
       "      <td>didriksons</td>\n",
       "      <td>gloves and mittens</td>\n",
       "    </tr>\n",
       "    <tr>\n",
       "      <th>578344</th>\n",
       "      <td>-1471686302949907949</td>\n",
       "      <td>-2642317045306872735</td>\n",
       "      <td>unisex</td>\n",
       "      <td>kuling</td>\n",
       "      <td>boots</td>\n",
       "    </tr>\n",
       "  </tbody>\n",
       "</table>\n",
       "<p>20000 rows × 5 columns</p>\n",
       "</div>"
      ],
      "text/plain": [
       "                     user_no               item_no gender_description  \\\n",
       "366      8611951538862997486  -5730313128884875484               boys   \n",
       "367      8611951538862997486   8568137491440306643               boys   \n",
       "368      8611951538862997486   2548468278650164360             unisex   \n",
       "369      8611951538862997486   6475930040942565267               boys   \n",
       "370      8611951538862997486   -247398092582614634               boys   \n",
       "...                      ...                   ...                ...   \n",
       "578340  -1471686302949907949  -3282703495377499121             unisex   \n",
       "578341  -1471686302949907949   4109825327457723985             unisex   \n",
       "578342  -1471686302949907949   5766067121942017613             unisex   \n",
       "578343  -1471686302949907949  -4377679585094127757             unisex   \n",
       "578344  -1471686302949907949  -2642317045306872735             unisex   \n",
       "\n",
       "               brand       product_group  \n",
       "366       air jordan       clothing sets  \n",
       "367             boss             bottoms  \n",
       "368             boss                tops  \n",
       "369     ralph lauren                tops  \n",
       "370       air jordan       clothing sets  \n",
       "...              ...                 ...  \n",
       "578340        britax           strollers  \n",
       "578341    didriksons  gloves and mittens  \n",
       "578342    didriksons  gloves and mittens  \n",
       "578343    didriksons  gloves and mittens  \n",
       "578344        kuling               boots  \n",
       "\n",
       "[20000 rows x 5 columns]"
      ]
     },
     "execution_count": 49,
     "metadata": {},
     "output_type": "execute_result"
    }
   ],
   "source": [
    "train_df_filtered"
   ]
  },
  {
   "cell_type": "code",
   "execution_count": 51,
   "id": "68b97548",
   "metadata": {},
   "outputs": [
    {
     "name": "stdout",
     "output_type": "stream",
     "text": [
      "Recommendations for user 8611951538862997486: [b'3189056047292869834' b'3189056047292869834' b'9082322682150583002']\n"
     ]
    }
   ],
   "source": [
    "# Get recommendations.\n",
    "_, titles = index(tf.constant([\"8611951538862997486\"]))\n",
    "print(f\"Recommendations for user 8611951538862997486: {titles[0, :3]}\")"
   ]
  },
  {
   "cell_type": "code",
   "execution_count": 69,
   "id": "74871b70",
   "metadata": {},
   "outputs": [],
   "source": [
    "_, titles = index.query_with_exclusions(tf.constant([\"8611951538862997486\"]), \n",
    "                                       tf.constant([items_to_exclude]))"
   ]
  },
  {
   "cell_type": "code",
   "execution_count": 52,
   "id": "7ce6ffb6",
   "metadata": {},
   "outputs": [],
   "source": [
    "item_info_df = pd.read_csv('item_info.csv', dtype={'item_no': str})"
   ]
  },
  {
   "cell_type": "code",
   "execution_count": 58,
   "id": "14e954e0",
   "metadata": {},
   "outputs": [],
   "source": [
    "recommendations = [item.numpy().decode() for item in titles[0]]"
   ]
  },
  {
   "cell_type": "code",
   "execution_count": 70,
   "id": "07d6c282",
   "metadata": {},
   "outputs": [
    {
     "data": {
      "text/plain": [
       "<tf.Tensor: shape=(10,), dtype=string, numpy=\n",
       "array([b'-4719306461609634737', b'-4719306461609634737',\n",
       "       b'-4719306461609634737', b'-4719306461609634737',\n",
       "       b'-4719306461609634737', b'-4719306461609634737',\n",
       "       b'-4719306461609634737', b'-4719306461609634737',\n",
       "       b'-4719306461609634737', b'-4719306461609634737'], dtype=object)>"
      ]
     },
     "execution_count": 70,
     "metadata": {},
     "output_type": "execute_result"
    }
   ],
   "source": [
    "titles[0]"
   ]
  },
  {
   "cell_type": "code",
   "execution_count": 60,
   "id": "0f461cea",
   "metadata": {},
   "outputs": [
    {
     "data": {
      "text/html": [
       "<div>\n",
       "<style scoped>\n",
       "    .dataframe tbody tr th:only-of-type {\n",
       "        vertical-align: middle;\n",
       "    }\n",
       "\n",
       "    .dataframe tbody tr th {\n",
       "        vertical-align: top;\n",
       "    }\n",
       "\n",
       "    .dataframe thead th {\n",
       "        text-align: right;\n",
       "    }\n",
       "</style>\n",
       "<table border=\"1\" class=\"dataframe\">\n",
       "  <thead>\n",
       "    <tr style=\"text-align: right;\">\n",
       "      <th></th>\n",
       "      <th>item_no</th>\n",
       "      <th>colour</th>\n",
       "      <th>gender_description</th>\n",
       "      <th>brand</th>\n",
       "      <th>product_group</th>\n",
       "      <th>min_age</th>\n",
       "      <th>max_age</th>\n",
       "    </tr>\n",
       "  </thead>\n",
       "  <tbody>\n",
       "    <tr>\n",
       "      <th>24312</th>\n",
       "      <td>9082322682150583002</td>\n",
       "      <td>red</td>\n",
       "      <td>boys</td>\n",
       "      <td>adidas</td>\n",
       "      <td>clothing sets</td>\n",
       "      <td>0.125</td>\n",
       "      <td>4.000</td>\n",
       "    </tr>\n",
       "    <tr>\n",
       "      <th>28453</th>\n",
       "      <td>3189056047292869834</td>\n",
       "      <td>red</td>\n",
       "      <td>boys</td>\n",
       "      <td>air jordan</td>\n",
       "      <td>all in ones</td>\n",
       "      <td>0.125</td>\n",
       "      <td>0.625</td>\n",
       "    </tr>\n",
       "    <tr>\n",
       "      <th>32158</th>\n",
       "      <td>8568137491440306643</td>\n",
       "      <td>navy</td>\n",
       "      <td>boys</td>\n",
       "      <td>boss</td>\n",
       "      <td>bottoms</td>\n",
       "      <td>0.375</td>\n",
       "      <td>3.000</td>\n",
       "    </tr>\n",
       "    <tr>\n",
       "      <th>51617</th>\n",
       "      <td>6475930040942565267</td>\n",
       "      <td>black</td>\n",
       "      <td>boys</td>\n",
       "      <td>ralph lauren</td>\n",
       "      <td>tops</td>\n",
       "      <td>1.000</td>\n",
       "      <td>14.000</td>\n",
       "    </tr>\n",
       "  </tbody>\n",
       "</table>\n",
       "</div>"
      ],
      "text/plain": [
       "                   item_no colour gender_description         brand  \\\n",
       "24312  9082322682150583002    red               boys        adidas   \n",
       "28453  3189056047292869834    red               boys    air jordan   \n",
       "32158  8568137491440306643   navy               boys          boss   \n",
       "51617  6475930040942565267  black               boys  ralph lauren   \n",
       "\n",
       "       product_group  min_age  max_age  \n",
       "24312  clothing sets    0.125    4.000  \n",
       "28453    all in ones    0.125    0.625  \n",
       "32158        bottoms    0.375    3.000  \n",
       "51617           tops    1.000   14.000  "
      ]
     },
     "execution_count": 60,
     "metadata": {},
     "output_type": "execute_result"
    }
   ],
   "source": [
    "item_info_df.loc[item_info_df['item_no'].isin(recommendations)]"
   ]
  },
  {
   "cell_type": "code",
   "execution_count": 72,
   "id": "6e5b5e6f",
   "metadata": {},
   "outputs": [
    {
     "data": {
      "text/html": [
       "<div>\n",
       "<style scoped>\n",
       "    .dataframe tbody tr th:only-of-type {\n",
       "        vertical-align: middle;\n",
       "    }\n",
       "\n",
       "    .dataframe tbody tr th {\n",
       "        vertical-align: top;\n",
       "    }\n",
       "\n",
       "    .dataframe thead th {\n",
       "        text-align: right;\n",
       "    }\n",
       "</style>\n",
       "<table border=\"1\" class=\"dataframe\">\n",
       "  <thead>\n",
       "    <tr style=\"text-align: right;\">\n",
       "      <th></th>\n",
       "      <th>item_no</th>\n",
       "      <th>colour</th>\n",
       "      <th>gender_description</th>\n",
       "      <th>brand</th>\n",
       "      <th>product_group</th>\n",
       "      <th>min_age</th>\n",
       "      <th>max_age</th>\n",
       "    </tr>\n",
       "  </thead>\n",
       "  <tbody>\n",
       "    <tr>\n",
       "      <th>27828</th>\n",
       "      <td>-4719306461609634737</td>\n",
       "      <td>pink</td>\n",
       "      <td>unisex</td>\n",
       "      <td>kuling</td>\n",
       "      <td>gloves and mittens</td>\n",
       "      <td>0.125</td>\n",
       "      <td>7.0</td>\n",
       "    </tr>\n",
       "  </tbody>\n",
       "</table>\n",
       "</div>"
      ],
      "text/plain": [
       "                    item_no colour gender_description   brand  \\\n",
       "27828  -4719306461609634737   pink             unisex  kuling   \n",
       "\n",
       "            product_group  min_age  max_age  \n",
       "27828  gloves and mittens    0.125      7.0  "
      ]
     },
     "execution_count": 72,
     "metadata": {},
     "output_type": "execute_result"
    }
   ],
   "source": [
    "item_info_df.loc[item_info_df['item_no'] == '-4719306461609634737']"
   ]
  },
  {
   "cell_type": "code",
   "execution_count": null,
   "id": "49e77ac9",
   "metadata": {},
   "outputs": [],
   "source": []
  },
  {
   "cell_type": "code",
   "execution_count": null,
   "id": "45c37b4d",
   "metadata": {},
   "outputs": [],
   "source": []
  },
  {
   "cell_type": "code",
   "execution_count": 66,
   "id": "e05447a1",
   "metadata": {},
   "outputs": [],
   "source": [
    "items_to_exclude = train_df_filtered.loc[train_df_filtered['user_no'] == '8611951538862997486']['item_no'].unique()"
   ]
  },
  {
   "cell_type": "code",
   "execution_count": 68,
   "id": "28a88bfb",
   "metadata": {},
   "outputs": [
    {
     "data": {
      "text/plain": [
       "<tf.Tensor: shape=(1, 14), dtype=string, numpy=\n",
       "array([[b'-5730313128884875484', b'8568137491440306643',\n",
       "        b'2548468278650164360', b'6475930040942565267',\n",
       "        b'-247398092582614634', b'3189056047292869834',\n",
       "        b'9082322682150583002', b'-2704888249198936738',\n",
       "        b'-3644029383138024689', b'-7476420848659739392',\n",
       "        b'-4866887541185258299', b'-500451012866804228',\n",
       "        b'137006744928801487', b'-439802747482401384']], dtype=object)>"
      ]
     },
     "execution_count": 68,
     "metadata": {},
     "output_type": "execute_result"
    }
   ],
   "source": [
    "tf.constant([items_to_exclude])"
   ]
  },
  {
   "cell_type": "code",
   "execution_count": 61,
   "id": "7d45ff09",
   "metadata": {},
   "outputs": [
    {
     "data": {
      "text/html": [
       "<div>\n",
       "<style scoped>\n",
       "    .dataframe tbody tr th:only-of-type {\n",
       "        vertical-align: middle;\n",
       "    }\n",
       "\n",
       "    .dataframe tbody tr th {\n",
       "        vertical-align: top;\n",
       "    }\n",
       "\n",
       "    .dataframe thead th {\n",
       "        text-align: right;\n",
       "    }\n",
       "</style>\n",
       "<table border=\"1\" class=\"dataframe\">\n",
       "  <thead>\n",
       "    <tr style=\"text-align: right;\">\n",
       "      <th></th>\n",
       "      <th>user_no</th>\n",
       "      <th>item_no</th>\n",
       "      <th>gender_description</th>\n",
       "      <th>brand</th>\n",
       "      <th>product_group</th>\n",
       "    </tr>\n",
       "  </thead>\n",
       "  <tbody>\n",
       "    <tr>\n",
       "      <th>366</th>\n",
       "      <td>8611951538862997486</td>\n",
       "      <td>-5730313128884875484</td>\n",
       "      <td>boys</td>\n",
       "      <td>air jordan</td>\n",
       "      <td>clothing sets</td>\n",
       "    </tr>\n",
       "    <tr>\n",
       "      <th>367</th>\n",
       "      <td>8611951538862997486</td>\n",
       "      <td>8568137491440306643</td>\n",
       "      <td>boys</td>\n",
       "      <td>boss</td>\n",
       "      <td>bottoms</td>\n",
       "    </tr>\n",
       "    <tr>\n",
       "      <th>368</th>\n",
       "      <td>8611951538862997486</td>\n",
       "      <td>2548468278650164360</td>\n",
       "      <td>unisex</td>\n",
       "      <td>boss</td>\n",
       "      <td>tops</td>\n",
       "    </tr>\n",
       "    <tr>\n",
       "      <th>369</th>\n",
       "      <td>8611951538862997486</td>\n",
       "      <td>6475930040942565267</td>\n",
       "      <td>boys</td>\n",
       "      <td>ralph lauren</td>\n",
       "      <td>tops</td>\n",
       "    </tr>\n",
       "    <tr>\n",
       "      <th>370</th>\n",
       "      <td>8611951538862997486</td>\n",
       "      <td>-247398092582614634</td>\n",
       "      <td>boys</td>\n",
       "      <td>air jordan</td>\n",
       "      <td>clothing sets</td>\n",
       "    </tr>\n",
       "    <tr>\n",
       "      <th>371</th>\n",
       "      <td>8611951538862997486</td>\n",
       "      <td>3189056047292869834</td>\n",
       "      <td>boys</td>\n",
       "      <td>air jordan</td>\n",
       "      <td>all in ones</td>\n",
       "    </tr>\n",
       "    <tr>\n",
       "      <th>372</th>\n",
       "      <td>8611951538862997486</td>\n",
       "      <td>9082322682150583002</td>\n",
       "      <td>boys</td>\n",
       "      <td>adidas</td>\n",
       "      <td>clothing sets</td>\n",
       "    </tr>\n",
       "    <tr>\n",
       "      <th>373</th>\n",
       "      <td>8611951538862997486</td>\n",
       "      <td>-2704888249198936738</td>\n",
       "      <td>boys</td>\n",
       "      <td>adidas</td>\n",
       "      <td>clothing sets</td>\n",
       "    </tr>\n",
       "    <tr>\n",
       "      <th>374</th>\n",
       "      <td>8611951538862997486</td>\n",
       "      <td>-5730313128884875484</td>\n",
       "      <td>boys</td>\n",
       "      <td>air jordan</td>\n",
       "      <td>clothing sets</td>\n",
       "    </tr>\n",
       "    <tr>\n",
       "      <th>375</th>\n",
       "      <td>8611951538862997486</td>\n",
       "      <td>8568137491440306643</td>\n",
       "      <td>boys</td>\n",
       "      <td>boss</td>\n",
       "      <td>bottoms</td>\n",
       "    </tr>\n",
       "    <tr>\n",
       "      <th>376</th>\n",
       "      <td>8611951538862997486</td>\n",
       "      <td>2548468278650164360</td>\n",
       "      <td>unisex</td>\n",
       "      <td>boss</td>\n",
       "      <td>tops</td>\n",
       "    </tr>\n",
       "    <tr>\n",
       "      <th>377</th>\n",
       "      <td>8611951538862997486</td>\n",
       "      <td>6475930040942565267</td>\n",
       "      <td>boys</td>\n",
       "      <td>ralph lauren</td>\n",
       "      <td>tops</td>\n",
       "    </tr>\n",
       "    <tr>\n",
       "      <th>378</th>\n",
       "      <td>8611951538862997486</td>\n",
       "      <td>3189056047292869834</td>\n",
       "      <td>boys</td>\n",
       "      <td>air jordan</td>\n",
       "      <td>all in ones</td>\n",
       "    </tr>\n",
       "    <tr>\n",
       "      <th>379</th>\n",
       "      <td>8611951538862997486</td>\n",
       "      <td>-3644029383138024689</td>\n",
       "      <td>boys</td>\n",
       "      <td>mayoral</td>\n",
       "      <td>bottoms</td>\n",
       "    </tr>\n",
       "    <tr>\n",
       "      <th>380</th>\n",
       "      <td>8611951538862997486</td>\n",
       "      <td>-7476420848659739392</td>\n",
       "      <td>boys</td>\n",
       "      <td>mayoral</td>\n",
       "      <td>coats and jackets</td>\n",
       "    </tr>\n",
       "    <tr>\n",
       "      <th>381</th>\n",
       "      <td>8611951538862997486</td>\n",
       "      <td>-4866887541185258299</td>\n",
       "      <td>boys</td>\n",
       "      <td>mayoral</td>\n",
       "      <td>all in ones</td>\n",
       "    </tr>\n",
       "    <tr>\n",
       "      <th>382</th>\n",
       "      <td>8611951538862997486</td>\n",
       "      <td>-500451012866804228</td>\n",
       "      <td>boys</td>\n",
       "      <td>adidas</td>\n",
       "      <td>clothing sets</td>\n",
       "    </tr>\n",
       "    <tr>\n",
       "      <th>383</th>\n",
       "      <td>8611951538862997486</td>\n",
       "      <td>137006744928801487</td>\n",
       "      <td>boys</td>\n",
       "      <td>petit bateau</td>\n",
       "      <td>bottoms</td>\n",
       "    </tr>\n",
       "    <tr>\n",
       "      <th>384</th>\n",
       "      <td>8611951538862997486</td>\n",
       "      <td>-439802747482401384</td>\n",
       "      <td>boys</td>\n",
       "      <td>adidas</td>\n",
       "      <td>clothing sets</td>\n",
       "    </tr>\n",
       "    <tr>\n",
       "      <th>385</th>\n",
       "      <td>8611951538862997486</td>\n",
       "      <td>9082322682150583002</td>\n",
       "      <td>boys</td>\n",
       "      <td>adidas</td>\n",
       "      <td>clothing sets</td>\n",
       "    </tr>\n",
       "  </tbody>\n",
       "</table>\n",
       "</div>"
      ],
      "text/plain": [
       "                 user_no               item_no gender_description  \\\n",
       "366  8611951538862997486  -5730313128884875484               boys   \n",
       "367  8611951538862997486   8568137491440306643               boys   \n",
       "368  8611951538862997486   2548468278650164360             unisex   \n",
       "369  8611951538862997486   6475930040942565267               boys   \n",
       "370  8611951538862997486   -247398092582614634               boys   \n",
       "371  8611951538862997486   3189056047292869834               boys   \n",
       "372  8611951538862997486   9082322682150583002               boys   \n",
       "373  8611951538862997486  -2704888249198936738               boys   \n",
       "374  8611951538862997486  -5730313128884875484               boys   \n",
       "375  8611951538862997486   8568137491440306643               boys   \n",
       "376  8611951538862997486   2548468278650164360             unisex   \n",
       "377  8611951538862997486   6475930040942565267               boys   \n",
       "378  8611951538862997486   3189056047292869834               boys   \n",
       "379  8611951538862997486  -3644029383138024689               boys   \n",
       "380  8611951538862997486  -7476420848659739392               boys   \n",
       "381  8611951538862997486  -4866887541185258299               boys   \n",
       "382  8611951538862997486   -500451012866804228               boys   \n",
       "383  8611951538862997486    137006744928801487               boys   \n",
       "384  8611951538862997486   -439802747482401384               boys   \n",
       "385  8611951538862997486   9082322682150583002               boys   \n",
       "\n",
       "            brand      product_group  \n",
       "366    air jordan      clothing sets  \n",
       "367          boss            bottoms  \n",
       "368          boss               tops  \n",
       "369  ralph lauren               tops  \n",
       "370    air jordan      clothing sets  \n",
       "371    air jordan        all in ones  \n",
       "372        adidas      clothing sets  \n",
       "373        adidas      clothing sets  \n",
       "374    air jordan      clothing sets  \n",
       "375          boss            bottoms  \n",
       "376          boss               tops  \n",
       "377  ralph lauren               tops  \n",
       "378    air jordan        all in ones  \n",
       "379       mayoral            bottoms  \n",
       "380       mayoral  coats and jackets  \n",
       "381       mayoral        all in ones  \n",
       "382        adidas      clothing sets  \n",
       "383  petit bateau            bottoms  \n",
       "384        adidas      clothing sets  \n",
       "385        adidas      clothing sets  "
      ]
     },
     "execution_count": 61,
     "metadata": {},
     "output_type": "execute_result"
    }
   ],
   "source": [
    "train_df_filtered.loc[train_df_filtered['user_no'] == '8611951538862997486']"
   ]
  },
  {
   "cell_type": "code",
   "execution_count": 46,
   "id": "549b6544",
   "metadata": {
    "scrolled": true
   },
   "outputs": [
    {
     "data": {
      "text/plain": [
       "6"
      ]
     },
     "execution_count": 46,
     "metadata": {},
     "output_type": "execute_result"
    }
   ],
   "source": [
    "3 + 3"
   ]
  },
  {
   "cell_type": "code",
   "execution_count": null,
   "id": "a0af1313",
   "metadata": {},
   "outputs": [],
   "source": []
  },
  {
   "cell_type": "code",
   "execution_count": null,
   "id": "9a0e3de1",
   "metadata": {},
   "outputs": [],
   "source": []
  }
 ],
 "metadata": {
  "kernelspec": {
   "display_name": "tfrs-retail-example",
   "language": "python",
   "name": "tfrs-retail-example"
  },
  "language_info": {
   "codemirror_mode": {
    "name": "ipython",
    "version": 3
   },
   "file_extension": ".py",
   "mimetype": "text/x-python",
   "name": "python",
   "nbconvert_exporter": "python",
   "pygments_lexer": "ipython3",
   "version": "3.7.5"
  }
 },
 "nbformat": 4,
 "nbformat_minor": 5
}
